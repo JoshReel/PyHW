{
 "cells": [
  {
   "cell_type": "code",
   "execution_count": 4,
   "metadata": {},
   "outputs": [
    {
     "name": "stdout",
     "output_type": "stream",
     "text": [
      "Paragraph Anlysis\n",
      "------------------\n",
      "Approximate word count:  130\n",
      "Approximate sentence count:  5\n",
      "Average letter count:  7.384615384615385\n",
      "Average sentence length:  26.0\n"
     ]
    }
   ],
   "source": [
    "import os\n",
    "import textwrap\n",
    "\n",
    "with open('paragraph_1.txt', 'r') as myfile:\n",
    "    data=myfile.read().replace('\\n', '')\n",
    "\n",
    "word_count = len(data.split())\n",
    "sentence_count = data.count('.')\n",
    "avg_letter_count = len(data) / len(data.split())\n",
    "avg_sentence_length = len(data.split()) / data.count('.')\n",
    "    \n",
    "\n",
    "print('Paragraph Anlysis')\n",
    "print('------------------')\n",
    "print('Approximate word count: ', word_count)\n",
    "print('Approximate sentence count: ', sentence_count)\n",
    "print('Average letter count: ', avg_letter_count)\n",
    "print('Average sentence length: ', avg_sentence_length)"
   ]
  }
 ],
 "metadata": {
  "kernelspec": {
   "display_name": "Python 3",
   "language": "python",
   "name": "python3"
  },
  "language_info": {
   "codemirror_mode": {
    "name": "ipython",
    "version": 3
   },
   "file_extension": ".py",
   "mimetype": "text/x-python",
   "name": "python",
   "nbconvert_exporter": "python",
   "pygments_lexer": "ipython3",
   "version": "3.6.4"
  }
 },
 "nbformat": 4,
 "nbformat_minor": 2
}
